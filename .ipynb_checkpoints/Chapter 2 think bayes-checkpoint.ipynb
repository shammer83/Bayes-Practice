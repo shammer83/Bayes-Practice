{
 "cells": [
  {
   "cell_type": "code",
   "execution_count": 1,
   "metadata": {},
   "outputs": [
    {
     "data": {
      "text/plain": [
       "'/Users/dhaynes/Documents/Data_science/Bayes'"
      ]
     },
     "execution_count": 1,
     "metadata": {},
     "output_type": "execute_result"
    }
   ],
   "source": [
    "pwd"
   ]
  },
  {
   "cell_type": "code",
   "execution_count": 2,
   "metadata": {},
   "outputs": [
    {
     "name": "stdout",
     "output_type": "stream",
     "text": [
      "/Users/dhaynes/Documents/Data_science/think_bayes/ThinkBayes/code\n"
     ]
    }
   ],
   "source": [
    "cd /Users/dhaynes/Documents/Data_science/think_bayes/ThinkBayes/code/"
   ]
  },
  {
   "cell_type": "code",
   "execution_count": 3,
   "metadata": {},
   "outputs": [
    {
     "name": "stdout",
     "output_type": "stream",
     "text": [
      "CDBRFS08.ASC.gz                myplot.py\r\n",
      "\u001b[34m__pycache__\u001b[m\u001b[m/                   paintball.py\r\n",
      "brfss.py                       price.py\r\n",
      "columns.py                     redline.py\r\n",
      "cookie.py                      redline_data.py\r\n",
      "cookie2.py                     sat.py\r\n",
      "correlation.py                 sat_ranks.csv\r\n",
      "dice.py                        sat_scale.csv\r\n",
      "dungeons.py                    showcases.2011.csv\r\n",
      "euro.py                        showcases.2012.csv\r\n",
      "euro2.py                       species.py\r\n",
      "euro3.py                       survey.py\r\n",
      "hockey.py                      thinkbayes.py\r\n",
      "hockey_data.csv                thinkplot.py\r\n",
      "jaynes.py                      thinkstats.py\r\n",
      "journal.pone.0047712.s001.csv  train.py\r\n",
      "kidney.py                      train2.py\r\n",
      "m_and_m.py                     train3.py\r\n",
      "monty.py                       variability.py\r\n",
      "monty2.py\r\n"
     ]
    }
   ],
   "source": [
    "ls"
   ]
  },
  {
   "cell_type": "code",
   "execution_count": 4,
   "metadata": {},
   "outputs": [],
   "source": [
    "from thinkbayes import Pmf"
   ]
  },
  {
   "cell_type": "code",
   "execution_count": 5,
   "metadata": {},
   "outputs": [],
   "source": [
    "#builds a probability mass function for the outcomes of a six-sided die:\n",
    "\n",
    "pmf = Pmf()\n",
    "for x in [1,2,3,4,5,6]:\n",
    "    pmf.Set(x, 1/6.0 )"
   ]
  },
  {
   "cell_type": "code",
   "execution_count": 6,
   "metadata": {},
   "outputs": [],
   "source": [
    "# Cookie problem\n",
    "    \n",
    "pmf = Pmf()\n",
    "pmf.Set('Bowl 1', 0.5) # prior probabilities \n",
    "pmf.Set('Bowl 2', 0.5)"
   ]
  },
  {
   "cell_type": "code",
   "execution_count": 7,
   "metadata": {},
   "outputs": [],
   "source": [
    "pmf.Mult('Bowl 1', 0.75) #likelihood function\n",
    "pmf.Mult('Bowl 2', 0.5) "
   ]
  },
  {
   "cell_type": "code",
   "execution_count": 8,
   "metadata": {},
   "outputs": [
    {
     "data": {
      "text/plain": [
       "0.625"
      ]
     },
     "execution_count": 8,
     "metadata": {},
     "output_type": "execute_result"
    }
   ],
   "source": [
    "pmf.Normalize()"
   ]
  },
  {
   "cell_type": "code",
   "execution_count": 11,
   "metadata": {},
   "outputs": [
    {
     "name": "stdout",
     "output_type": "stream",
     "text": [
      "0.6000000000000001\n"
     ]
    }
   ],
   "source": [
    "print(pmf.Prob('Bowl 1'))"
   ]
  },
  {
   "cell_type": "code",
   "execution_count": null,
   "metadata": {},
   "outputs": [],
   "source": []
  },
  {
   "cell_type": "code",
   "execution_count": 12,
   "metadata": {},
   "outputs": [],
   "source": [
    "#The Bayesian framework"
   ]
  },
  {
   "cell_type": "code",
   "execution_count": 29,
   "metadata": {},
   "outputs": [],
   "source": [
    "class Cookie(Pmf):\n",
    "    \n",
    "    def _init_(self, hypos):\n",
    "        super()._init_(self)\n",
    "        \n",
    "        for hypo in hypos:\n",
    "            self.Set(hypo, 1)\n",
    "            \n",
    "        self.Normalize()\n",
    "        \n",
    "    hypos = ['Bowl 1', 'Bowl 2']\n",
    "    \n",
    "    mixes = { 'Bowl 1' : dict(vanilla = 0.75, chocolate = 0.25), \n",
    "             'Bowl 2' : dict(vanilla = 0.5, chocolate = .05)\n",
    "             \n",
    "        }\n",
    "    \n",
    "    def Update(self, data):\n",
    "        \n",
    "        for hypo in self.Values():\n",
    "            like = self.Likelihood(data, hypo)\n",
    "            self.Mult(hypo, like)\n",
    "        self.Normalize()\n",
    "    \n",
    "    def Likelihood(self, data, hypo):\n",
    "        mix = self.mixes[hypo]\n",
    "        like = mix[data]\n",
    "        \n",
    "        return like\n",
    "    \n",
    "            "
   ]
  },
  {
   "cell_type": "code",
   "execution_count": 30,
   "metadata": {},
   "outputs": [],
   "source": [
    "hypos = ['Bowl 1', 'Bowl 2']\n",
    "\n",
    "pmf = Cookie(hypos)"
   ]
  },
  {
   "cell_type": "code",
   "execution_count": 31,
   "metadata": {},
   "outputs": [],
   "source": [
    "pmf.Update('vanilla')"
   ]
  },
  {
   "cell_type": "code",
   "execution_count": 32,
   "metadata": {},
   "outputs": [
    {
     "name": "stdout",
     "output_type": "stream",
     "text": [
      "Bowl 1 0.6000000000000001\n",
      "Bowl 2 0.4\n"
     ]
    }
   ],
   "source": [
    "for hypo, prob in pmf.Items():\n",
    "    print(hypo, prob)"
   ]
  },
  {
   "cell_type": "code",
   "execution_count": null,
   "metadata": {},
   "outputs": [],
   "source": []
  }
 ],
 "metadata": {
  "kernelspec": {
   "display_name": "Python 3",
   "language": "python",
   "name": "python3"
  },
  "language_info": {
   "codemirror_mode": {
    "name": "ipython",
    "version": 3
   },
   "file_extension": ".py",
   "mimetype": "text/x-python",
   "name": "python",
   "nbconvert_exporter": "python",
   "pygments_lexer": "ipython3",
   "version": "3.6.6"
  }
 },
 "nbformat": 4,
 "nbformat_minor": 2
}
