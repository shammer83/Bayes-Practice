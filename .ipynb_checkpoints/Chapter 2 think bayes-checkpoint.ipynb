{
 "cells": [
  {
   "cell_type": "code",
   "execution_count": 1,
   "metadata": {},
   "outputs": [
    {
     "data": {
      "text/plain": [
       "'/Users/dhaynes/Documents/Data_science/Bayes'"
      ]
     },
     "execution_count": 1,
     "metadata": {},
     "output_type": "execute_result"
    }
   ],
   "source": [
    "pwd"
   ]
  },
  {
   "cell_type": "code",
   "execution_count": 8,
   "metadata": {},
   "outputs": [
    {
     "name": "stdout",
     "output_type": "stream",
     "text": [
      "/Users/dhaynes/Documents/Data_science/think_bayes/ThinkBayes/code\n"
     ]
    }
   ],
   "source": [
    "cd /Users/dhaynes/Documents/Data_science/think_bayes/ThinkBayes/code/"
   ]
  },
  {
   "cell_type": "code",
   "execution_count": 20,
   "metadata": {},
   "outputs": [
    {
     "name": "stdout",
     "output_type": "stream",
     "text": [
      "CDBRFS08.ASC.gz                myplot.py\r\n",
      "brfss.py                       paintball.py\r\n",
      "columns.py                     price.py\r\n",
      "cookie.py                      redline.py\r\n",
      "cookie2.py                     redline_data.py\r\n",
      "correlation.py                 sat.py\r\n",
      "dice.py                        sat_ranks.csv\r\n",
      "dungeons.py                    sat_scale.csv\r\n",
      "euro.py                        showcases.2011.csv\r\n",
      "euro2.py                       showcases.2012.csv\r\n",
      "euro3.py                       species.py\r\n",
      "hockey.py                      survey.py\r\n",
      "hockey_data.csv                thinkbayes.py\r\n",
      "jaynes.py                      thinkplot.py\r\n",
      "journal.pone.0047712.s001.csv  thinkstats.py\r\n",
      "kidney.py                      train.py\r\n",
      "m_and_m.py                     train2.py\r\n",
      "monty.py                       train3.py\r\n",
      "monty2.py                      variability.py\r\n"
     ]
    }
   ],
   "source": [
    "ls"
   ]
  },
  {
   "cell_type": "code",
   "execution_count": 23,
   "metadata": {},
   "outputs": [],
   "source": [
    "from thinkbayes import Pmf"
   ]
  },
  {
   "cell_type": "code",
   "execution_count": null,
   "metadata": {},
   "outputs": [],
   "source": []
  },
  {
   "cell_type": "code",
   "execution_count": null,
   "metadata": {},
   "outputs": [],
   "source": []
  }
 ],
 "metadata": {
  "kernelspec": {
   "display_name": "Python 3",
   "language": "python",
   "name": "python3"
  },
  "language_info": {
   "codemirror_mode": {
    "name": "ipython",
    "version": 3
   },
   "file_extension": ".py",
   "mimetype": "text/x-python",
   "name": "python",
   "nbconvert_exporter": "python",
   "pygments_lexer": "ipython3",
   "version": "3.6.6"
  }
 },
 "nbformat": 4,
 "nbformat_minor": 2
}
